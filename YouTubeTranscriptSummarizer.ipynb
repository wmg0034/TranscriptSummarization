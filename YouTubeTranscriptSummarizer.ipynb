{
 "cells": [
  {
   "cell_type": "markdown",
   "id": "47671885",
   "metadata": {},
   "source": [
    "## Overview ![](spirit-island-transparent-small.png)\n",
    "\n",
    "This short exercise is to gain basic competency with abstractive summarization from pre-trained NLP models using CUDA. We retrieve the transcript of a Spirit Island review video from the YouTube channel 3 Minute Board Games, which can be found here: https://www.youtube.com/watch?v=aEpGN6jswPw.\n",
    "\n",
    "YouTubeTranscriptApi passes a list of dictionaries containing timestamps, along with the closed captions. We remove the timestamps, clean the text, and merge it all into a single string. This string is given to the following models:\n",
    "\n",
    "* Google's Pegasus-xsum: https://huggingface.co/google/pegasus-xsum\n",
    "* Facebook's BART-large-CNN: https://huggingface.co/facebook/bart-large-cnn\n",
    "* Google's T5-Base: https://huggingface.co/google-t5/t5-base\n",
    "\n",
    "Google's T5-Base is performed twice, once with a pipeline and once with a tokenizer. Summarization efficacy is not a concern in this project, so there is no fine-tuning."
   ]
  },
  {
   "cell_type": "code",
   "execution_count": 1,
   "id": "e7c709f3-e8fd-43b1-b192-bad6896034fd",
   "metadata": {},
   "outputs": [],
   "source": [
    "import torch\n",
    "\n",
    "from youtube_transcript_api import YouTubeTranscriptApi\n",
    "\n",
    "import warnings\n",
    "warnings.filterwarnings(\"ignore\")"
   ]
  },
  {
   "cell_type": "code",
   "execution_count": 2,
   "id": "da0e2257-762f-453f-a7ca-9845d233ff84",
   "metadata": {},
   "outputs": [],
   "source": [
    "transcript = YouTubeTranscriptApi.get_transcript(\"aEpGN6jswPw\")"
   ]
  },
  {
   "cell_type": "code",
   "execution_count": 3,
   "id": "e0966489",
   "metadata": {},
   "outputs": [
    {
     "data": {
      "text/plain": [
       "[{'text': 'Hello and welcome to spirit island, in\\nabout three minutes.',\n",
       "  'start': 3.24,\n",
       "  'duration': 5.439},\n",
       " {'text': \"It's a game for one to four players.\",\n",
       "  'start': 8.679,\n",
       "  'duration': 2.171},\n",
       " {'text': 'It has a solo mode.', 'start': 10.85, 'duration': 1.165},\n",
       " {'text': 'Playing time is approximately 30 minutes per player',\n",
       "  'start': 12.02,\n",
       "  'duration': 3.16},\n",
       " {'text': 'This is a complex game', 'start': 15.4, 'duration': 2.66},\n",
       " {'text': \"Imagine if you would that you're a\",\n",
       "  'start': 18.58,\n",
       "  'duration': 1.58},\n",
       " {'text': 'peaceful water spirit in a remote\\nPacific paradise. Your days are spent',\n",
       "  'start': 20.17,\n",
       "  'duration': 3.54},\n",
       " {'text': 'talking to fish, making it rain, and being\\nprayed to by the locals.  Then one fateful',\n",
       "  'start': 23.71,\n",
       "  'duration': 4.62},\n",
       " {'text': 'day. European colonists turn up and start\\nclear cutting forests, damming the rivers',\n",
       "  'start': 28.33,\n",
       "  'duration': 4.32},\n",
       " {'text': 'and polluting your waterways. How would\\nyou respond? With flash floods and mass',\n",
       "  'start': 32.65,\n",
       "  'duration': 4.26},\n",
       " {'text': 'drownings of course.', 'start': 36.91, 'duration': 1.597},\n",
       " {'text': 'That is spirit island.', 'start': 38.507, 'duration': 1.973},\n",
       " {'text': 'Cooperative: each player controls their own spirit and plays together\\nagainst the invaders.',\n",
       "  'start': 40.6,\n",
       "  'duration': 5.12},\n",
       " {'text': 'area control: each Spirit has tokens that represent their influence on the board and where they can use their powers.',\n",
       "  'start': 46.88,\n",
       "  'duration': 5.88},\n",
       " {'text': 'card management:\\neach player has a set of cards that',\n",
       "  'start': 53.24,\n",
       "  'duration': 3.32},\n",
       " {'text': 'represent the powers they can use. Powers are discarded once used',\n",
       "  'start': 56.76,\n",
       "  'duration': 3.3},\n",
       " {'text': 'winning the game', 'start': 60.32, 'duration': 1.28},\n",
       " {'text': 'initially the only way to win is to\\nremove all invaders from the board.',\n",
       "  'start': 61.6,\n",
       "  'duration': 4.86},\n",
       " {'text': 'This is exceptionally hard.\\nBut fear is the key to victory, you must make the invaders fear you',\n",
       "  'start': 66.46,\n",
       "  'duration': 4.84},\n",
       " {'text': 'when you destroy a\\ntown or city you create fear.',\n",
       "  'start': 71.5,\n",
       "  'duration': 3.2},\n",
       " {'text': 'many spirit powers  also create fear.  Fear increases the terror level, and when the terror level',\n",
       "  'start': 74.71,\n",
       "  'duration': 4.649},\n",
       " {'text': 'goes up the type of invaders you have to\\ndestroy get fewer and fewer.',\n",
       "  'start': 79.359,\n",
       "  'duration': 4.11},\n",
       " {'text': 'Making victory easier.', 'start': 83.469, 'duration': 1.279},\n",
       " {'text': 'play a turn \\nchoose growth actions for your spirits such as',\n",
       "  'start': 84.748,\n",
       "  'duration': 3.371},\n",
       " {'text': 'reclaiming your discarded powers, gaining\\nnew power cards (where you draw four and keep one)',\n",
       "  'start': 88.119,\n",
       "  'duration': 4.2},\n",
       " {'text': 'gaining power tokens and\\nplacing presence on the board.',\n",
       "  'start': 92.319,\n",
       "  'duration': 3.69},\n",
       " {'text': 'play cards and use powers.', 'start': 96.009, 'duration': 1.443},\n",
       " {'text': 'some cards are fast and will hit the colonists before they act.',\n",
       "  'start': 97.452,\n",
       "  'duration': 2.998},\n",
       " {'text': 'But many are slow.', 'start': 100.45, 'duration': 1.67},\n",
       " {'text': 'Fear cards cause negative effects on the invaders',\n",
       "  'start': 102.34,\n",
       "  'duration': 2.66},\n",
       " {'text': 'The invaders expand across the island\\nmaking a mess.\\nslow cards now take effect',\n",
       "  'start': 105.009,\n",
       "  'duration': 5.07},\n",
       " {'text': 'Refresh and begin a new turn', 'start': 110.08, 'duration': 1.76},\n",
       " {'text': 'Spirit island is a brain burner of the game',\n",
       "  'start': 112.52,\n",
       "  'duration': 2.42},\n",
       " {'text': 'every turn will have a lot of difficult\\ndecisions for you to make.',\n",
       "  'start': 114.94,\n",
       "  'duration': 3.12},\n",
       " {'text': 'There are multiple different spirits and they all play differently but perhaps most',\n",
       "  'start': 118.06,\n",
       "  'duration': 3.269},\n",
       " {'text': 'importantly they synergize with each other\\ndifferently, leading to a lot of',\n",
       "  'start': 121.329,\n",
       "  'duration': 3.271},\n",
       " {'text': 'combinations of powers. \\nThis spirit is a\\nslow and steady builder who helps to',\n",
       "  'start': 124.6,\n",
       "  'duration': 4.32},\n",
       " {'text': 'defend places from attack.\\nwhile this spirit specializes in scaring people.',\n",
       "  'start': 128.92,\n",
       "  'duration': 3.3},\n",
       " {'text': 'Combine this with the large\\ndecks of available powers and you have',\n",
       "  'start': 132.22,\n",
       "  'duration': 3.42},\n",
       " {'text': 'a game that will never play the same way\\ntwice.',\n",
       "  'start': 135.64,\n",
       "  'duration': 2.296},\n",
       " {'text': 'Scenarios and different invader',\n",
       "  'start': 137.936,\n",
       "  'duration': 1.514},\n",
       " {'text': 'groups allow you to adjust a difficulty\\nto suit your style freely.',\n",
       "  'start': 139.45,\n",
       "  'duration': 3.83},\n",
       " {'text': \"The single best thing about this game is when you've been fighting against the\",\n",
       "  'start': 143.28,\n",
       "  'duration': 2.26},\n",
       " {'text': 'invaders for a while now, and your spirit\\nis growing in power, so you decide to get',\n",
       "  'start': 145.54,\n",
       "  'duration': 3.449},\n",
       " {'text': 'a major power upgrade.', 'start': 148.989, 'duration': 0.868},\n",
       " {'text': 'Then your eyes light up when you see something awesome in your hand.',\n",
       "  'start': 149.857,\n",
       "  'duration': 2.132},\n",
       " {'text': 'You keep quiet until someone says',\n",
       "  'start': 151.989,\n",
       "  'duration': 1.847},\n",
       " {'text': '\"how do we deal with this coastal city?\"',\n",
       "  'start': 153.836,\n",
       "  'duration': 1.903},\n",
       " {'text': 'and you reply', 'start': 155.74, 'duration': 1.46},\n",
       " {'text': '\"well I could always\\nsummon a tsunami\"',\n",
       "  'start': 157.2,\n",
       "  'duration': 2.42},\n",
       " {'text': 'but there are reasons you might not like this game',\n",
       "  'start': 159.84,\n",
       "  'duration': 1.52},\n",
       " {'text': \"it's complex and that can cause a lot of\",\n",
       "  'start': 161.74,\n",
       "  'duration': 2.639},\n",
       " {'text': 'information overload and analysis\\nparalysis.',\n",
       "  'start': 164.379,\n",
       "  'duration': 2.73},\n",
       " {'text': \"it's not casual gamer friendly and I would only recommend it to people\\nwith a fair bit of experience with modern board games\",\n",
       "  'start': 167.109,\n",
       "  'duration': 6.211},\n",
       " {'text': 'for the same\\ncombination of hard decisions,',\n",
       "  'start': 173.54,\n",
       "  'duration': 2.66},\n",
       " {'text': 'card management and excellent solo gameplay',\n",
       "  'start': 176.44,\n",
       "  'duration': 2.0},\n",
       " {'text': 'I recommend mage Knight', 'start': 178.7, 'duration': 1.64}]"
      ]
     },
     "execution_count": 3,
     "metadata": {},
     "output_type": "execute_result"
    }
   ],
   "source": [
    "transcript"
   ]
  },
  {
   "cell_type": "code",
   "execution_count": 4,
   "id": "29e7fe15-89d9-4118-907f-61177b6c43bf",
   "metadata": {},
   "outputs": [],
   "source": [
    "textList=[]\n",
    "for line_dict in transcript:\n",
    "    textList.append(line_dict.get('text'))"
   ]
  },
  {
   "cell_type": "code",
   "execution_count": 5,
   "id": "1efc59db-d307-49d8-813c-2812f6dc080f",
   "metadata": {},
   "outputs": [],
   "source": [
    "dialogue_only=[]\n",
    "\n",
    "for text in textList:\n",
    "    if '(' in text and ')' in text:\n",
    "        continue\n",
    "    else:\n",
    "        text = text.replace('\\xa0', ' ').replace('\\n', ' ').replace(\"\\'\", \"\").replace('  ', ' ')\n",
    "        dialogue_only.append(text)"
   ]
  },
  {
   "cell_type": "code",
   "execution_count": 6,
   "id": "be7ef6a4-7fdd-4cf1-a3fc-7f1f096ea353",
   "metadata": {},
   "outputs": [],
   "source": [
    "dialogue_only = [dialogue + ' ' if dialogue[-1] != ' ' else dialogue for dialogue in dialogue_only]"
   ]
  },
  {
   "cell_type": "code",
   "execution_count": 7,
   "id": "7be76c34-d02e-4d97-a65e-9754f05f8cae",
   "metadata": {},
   "outputs": [],
   "source": [
    "joined_dialogue = ''.join(dialogue_only)\n",
    "joined_dialogue = joined_dialogue.replace('  ', ' ')"
   ]
  },
  {
   "cell_type": "code",
   "execution_count": 8,
   "id": "755403c6-d60a-4758-b7e9-2156201078a1",
   "metadata": {},
   "outputs": [
    {
     "name": "stdout",
     "output_type": "stream",
     "text": [
      "Hello and welcome to spirit island, in about three minutes. Its a game for one to four players. It has a solo mode. Playing time is approximately 30 minutes per player This is a complex game Imagine if you would that youre a peaceful water spirit in a remote Pacific paradise. Your days are spent talking to fish, making it rain, and being prayed to by the locals. Then one fateful day. European colonists turn up and start clear cutting forests, damming the rivers and polluting your waterways. How would you respond? With flash floods and mass drownings of course. That is spirit island. Cooperative: each player controls their own spirit and plays together against the invaders. area control: each Spirit has tokens that represent their influence on the board and where they can use their powers. card management: each player has a set of cards that represent the powers they can use. Powers are discarded once used winning the game initially the only way to win is to remove all invaders from the board. This is exceptionally hard. But fear is the key to victory, you must make the invaders fear you when you destroy a town or city you create fear. many spirit powers also create fear. Fear increases the terror level, and when the terror level goes up the type of invaders you have to destroy get fewer and fewer. Making victory easier. play a turn choose growth actions for your spirits such as gaining power tokens and placing presence on the board. play cards and use powers. some cards are fast and will hit the colonists before they act. But many are slow. Fear cards cause negative effects on the invaders The invaders expand across the island making a mess. slow cards now take effect Refresh and begin a new turn Spirit island is a brain burner of the game every turn will have a lot of difficult decisions for you to make. There are multiple different spirits and they all play differently but perhaps most importantly they synergize with each other differently, leading to a lot of combinations of powers. This spirit is a slow and steady builder who helps to defend places from attack. while this spirit specializes in scaring people. Combine this with the large decks of available powers and you have a game that will never play the same way twice. Scenarios and different invader groups allow you to adjust a difficulty to suit your style freely. The single best thing about this game is when youve been fighting against the invaders for a while now, and your spirit is growing in power, so you decide to get a major power upgrade. Then your eyes light up when you see something awesome in your hand. You keep quiet until someone says \"how do we deal with this coastal city?\" and you reply \"well I could always summon a tsunami\" but there are reasons you might not like this game its complex and that can cause a lot of information overload and analysis paralysis. its not casual gamer friendly and I would only recommend it to people with a fair bit of experience with modern board games for the same combination of hard decisions, card management and excellent solo gameplay I recommend mage Knight \n"
     ]
    }
   ],
   "source": [
    "print(joined_dialogue)"
   ]
  },
  {
   "cell_type": "markdown",
   "id": "a403250b",
   "metadata": {},
   "source": [
    "### CUDA\n",
    "\n",
    "Below is the CUDA implementation. To assess whether CUDA is actually being used, we view the performance tab of the task manager. Below is a screenshot immediately after using Run All on this notebook.\n",
    "\n",
    "![](cuda-graph.png)"
   ]
  },
  {
   "cell_type": "code",
   "execution_count": 9,
   "id": "52e96afe",
   "metadata": {},
   "outputs": [
    {
     "data": {
      "text/plain": [
       "True"
      ]
     },
     "execution_count": 9,
     "metadata": {},
     "output_type": "execute_result"
    }
   ],
   "source": [
    "torch.cuda.is_available()"
   ]
  },
  {
   "cell_type": "code",
   "execution_count": 10,
   "id": "a4aa9778-8d3a-4348-8f76-c346204c0898",
   "metadata": {},
   "outputs": [],
   "source": [
    "device = torch.device(\"cuda\" if torch.cuda.is_available() else \"cpu\")"
   ]
  },
  {
   "cell_type": "markdown",
   "id": "fbe35bb0-4342-4eb7-a870-f9171b3ae3ca",
   "metadata": {},
   "source": [
    "## Pegasus-xsum"
   ]
  },
  {
   "cell_type": "code",
   "execution_count": 11,
   "id": "219bba43-8000-4442-95d7-be544feb5c69",
   "metadata": {},
   "outputs": [],
   "source": [
    "from transformers import PegasusForConditionalGeneration, PegasusTokenizer"
   ]
  },
  {
   "cell_type": "code",
   "execution_count": 12,
   "id": "ce6b0c32-8952-46c3-be39-0b1fdf7be9eb",
   "metadata": {},
   "outputs": [
    {
     "name": "stderr",
     "output_type": "stream",
     "text": [
      "Some weights of PegasusForConditionalGeneration were not initialized from the model checkpoint at google/pegasus-xsum and are newly initialized: ['model.decoder.embed_positions.weight', 'model.encoder.embed_positions.weight']\n",
      "You should probably TRAIN this model on a down-stream task to be able to use it for predictions and inference.\n"
     ]
    }
   ],
   "source": [
    "pegasus_xsum_model = PegasusForConditionalGeneration.from_pretrained(\"google/pegasus-xsum\").to(device)"
   ]
  },
  {
   "cell_type": "code",
   "execution_count": 13,
   "id": "c6cb83f9-a343-441f-8042-3796d0e9c202",
   "metadata": {},
   "outputs": [],
   "source": [
    "pegasus_tokenizer = PegasusTokenizer.from_pretrained(\"google/pegasus-xsum\")"
   ]
  },
  {
   "cell_type": "code",
   "execution_count": 14,
   "id": "70d452fa-99ab-4f39-845c-f5956deb06ae",
   "metadata": {},
   "outputs": [],
   "source": [
    "pegasus_tokens = pegasus_tokenizer(joined_dialogue, truncation = True, padding = True, return_tensors=\"pt\").to(device)"
   ]
  },
  {
   "cell_type": "code",
   "execution_count": 15,
   "id": "2400eeef-b054-4eb9-981c-6145870e32ae",
   "metadata": {},
   "outputs": [],
   "source": [
    "pegasus_gen = pegasus_xsum_model.generate(**pegasus_tokens)"
   ]
  },
  {
   "cell_type": "code",
   "execution_count": 16,
   "id": "ca4a37fa-916c-4c8e-b306-60761ca7a171",
   "metadata": {},
   "outputs": [],
   "source": [
    "pegasus_summary = pegasus_tokenizer.decode(pegasus_gen[0], skip_special_tokens=True)"
   ]
  },
  {
   "cell_type": "code",
   "execution_count": 17,
   "id": "4b246401-49d5-4698-926a-7613ff347654",
   "metadata": {},
   "outputs": [
    {
     "name": "stdout",
     "output_type": "stream",
     "text": [
      "Spirit island is a card game where players control their own spirit and use their powers to fight off invaders.\n"
     ]
    }
   ],
   "source": [
    "print(pegasus_summary)"
   ]
  },
  {
   "cell_type": "markdown",
   "id": "89afba71-8bac-4493-a30a-51b2ff6fa020",
   "metadata": {},
   "source": [
    "## BART-large-cnn"
   ]
  },
  {
   "cell_type": "code",
   "execution_count": 18,
   "id": "d51dc912-a677-4171-acd0-1df59de052a9",
   "metadata": {},
   "outputs": [],
   "source": [
    "from transformers import BartForConditionalGeneration, BartTokenizer\n",
    "from transformers import pipeline"
   ]
  },
  {
   "cell_type": "code",
   "execution_count": 19,
   "id": "f89a0497-1889-4b4e-8373-10e106a0a436",
   "metadata": {},
   "outputs": [
    {
     "name": "stdout",
     "output_type": "stream",
     "text": [
      "WARNING:tensorflow:From c:\\Users\\19368\\anaconda3\\envs\\mandalore\\Lib\\site-packages\\tf_keras\\src\\losses.py:2976: The name tf.losses.sparse_softmax_cross_entropy is deprecated. Please use tf.compat.v1.losses.sparse_softmax_cross_entropy instead.\n",
      "\n"
     ]
    }
   ],
   "source": [
    "summarizer = pipeline(\"summarization\", model=\"facebook/bart-large-cnn\")"
   ]
  },
  {
   "cell_type": "code",
   "execution_count": 20,
   "id": "913c94f5-0a04-4d8e-a6c6-2f121f948534",
   "metadata": {},
   "outputs": [],
   "source": [
    "bart_summary = summarizer(joined_dialogue, max_length=130, min_length=30, do_sample=False)"
   ]
  },
  {
   "cell_type": "code",
   "execution_count": 21,
   "id": "10613ecd-b1fc-4578-939d-7f62b7912681",
   "metadata": {},
   "outputs": [
    {
     "name": "stdout",
     "output_type": "stream",
     "text": [
      "Each player controls their own spirit and plays together against the invaders. Fear is the key to victory, you must make the invaders fear you when you destroy a town or city you create fear.\n"
     ]
    }
   ],
   "source": [
    "print(bart_summary[0].get('summary_text'))"
   ]
  },
  {
   "cell_type": "markdown",
   "id": "bbd700aa-ec6e-4708-b61f-2b412ceb56fd",
   "metadata": {},
   "source": [
    "## T5-base via tokenizer"
   ]
  },
  {
   "cell_type": "code",
   "execution_count": 22,
   "id": "503d4fe1-5852-423d-8a1a-32a094c55280",
   "metadata": {},
   "outputs": [],
   "source": [
    "from transformers import T5Tokenizer, T5ForConditionalGeneration"
   ]
  },
  {
   "cell_type": "code",
   "execution_count": 23,
   "id": "f48ae05b-d551-49ce-9e7a-a5c906ccd495",
   "metadata": {},
   "outputs": [
    {
     "name": "stderr",
     "output_type": "stream",
     "text": [
      "You are using the default legacy behaviour of the <class 'transformers.models.t5.tokenization_t5.T5Tokenizer'>. This is expected, and simply means that the `legacy` (previous) behavior will be used so nothing changes for you. If you want to use the new behaviour, set `legacy=False`. This should only be set if you understand what it means, and thoroughly read the reason why this was added as explained in https://github.com/huggingface/transformers/pull/24565\n",
      "Special tokens have been added in the vocabulary, make sure the associated word embeddings are fine-tuned or trained.\n"
     ]
    }
   ],
   "source": [
    "t5_tokenizer = T5Tokenizer.from_pretrained(\"google-t5/t5-base\")\n",
    "t5_model = T5ForConditionalGeneration.from_pretrained(\"google-t5/t5-base\").to(device)"
   ]
  },
  {
   "cell_type": "code",
   "execution_count": 24,
   "id": "3c037aa4-8f71-4ddf-84f5-d9d5cbf764e4",
   "metadata": {
    "scrolled": true
   },
   "outputs": [],
   "source": [
    "t5_tokens = t5_tokenizer.encode('summarize'+joined_dialogue, return_tensors=\"pt\", max_length=512, truncation=True).to(device)"
   ]
  },
  {
   "cell_type": "code",
   "execution_count": 25,
   "id": "1d72a8ed-56d1-47a9-b41a-992cc756013f",
   "metadata": {},
   "outputs": [],
   "source": [
    "summary_ids = t5_model.generate(t5_tokens, max_length=50)"
   ]
  },
  {
   "cell_type": "code",
   "execution_count": 26,
   "id": "c132d8d4-2020-41eb-8402-2851ee19a2e9",
   "metadata": {},
   "outputs": [
    {
     "name": "stdout",
     "output_type": "stream",
     "text": [
      "spirit island is a complex game for one to four players. each player controls their own spirit and plays together against the invaders.\n"
     ]
    }
   ],
   "source": [
    "print(t5_tokenizer.decode(summary_ids[0], skip_special_tokens=True, clean_up_tokenization_spaces=True))"
   ]
  },
  {
   "cell_type": "markdown",
   "id": "f51d67d0-60e1-4739-96a8-db6d082ca628",
   "metadata": {},
   "source": [
    "## T5-base via pipeline"
   ]
  },
  {
   "cell_type": "code",
   "execution_count": 27,
   "id": "e91206e3-3033-43a9-aff4-49e49e4cb602",
   "metadata": {},
   "outputs": [],
   "source": [
    "t5pipeline = pipeline(\"summarization\", model=\"google-t5/t5-base\",device=device)"
   ]
  },
  {
   "cell_type": "code",
   "execution_count": 28,
   "id": "26d28904-2801-4e45-b180-a055b5a9d34a",
   "metadata": {},
   "outputs": [
    {
     "name": "stdout",
     "output_type": "stream",
     "text": [
      "spirit island is a game for one to four players and has a solo mode . each player controls their own spirit and plays together against the invaders . the game is not casual gamer friendly .\n"
     ]
    }
   ],
   "source": [
    "print(t5pipeline(joined_dialogue, min_length=25, max_length=50)[0].get('summary_text'))"
   ]
  },
  {
   "cell_type": "code",
   "execution_count": null,
   "id": "b3908994-bfe5-49fb-8712-a2014eb417de",
   "metadata": {},
   "outputs": [],
   "source": []
  }
 ],
 "metadata": {
  "kernelspec": {
   "display_name": "Python 3 (ipykernel)",
   "language": "python",
   "name": "python3"
  },
  "language_info": {
   "codemirror_mode": {
    "name": "ipython",
    "version": 3
   },
   "file_extension": ".py",
   "mimetype": "text/x-python",
   "name": "python",
   "nbconvert_exporter": "python",
   "pygments_lexer": "ipython3",
   "version": "3.12.3"
  }
 },
 "nbformat": 4,
 "nbformat_minor": 5
}
